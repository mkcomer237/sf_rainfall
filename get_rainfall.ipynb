{
 "cells": [
  {
   "cell_type": "code",
   "execution_count": 44,
   "metadata": {
    "collapsed": false
   },
   "outputs": [],
   "source": [
    "#download the rainfall data\n",
    "\n",
    "import json\n",
    "import urllib\n",
    "import pprint\n",
    "import pandas as pd\n",
    "\n",
    "results = json.load(urllib.urlopen(\"https://www.kimonolabs.com/api/ckuejykq?apikey=Rm9Em3kl0DCGV5SWQ01wf0ZUG4JufvxV\"))\n",
    "\n",
    "#pprint.pprint(results)\n",
    "\n",
    "data = results['results']['collection1']\n",
    "months = ['jun','jul','aug','sep','oct','nov','dec','jan','feb','mar','apr','may']\n",
    "\n",
    "\n",
    "#load into a pandas dataframe \n",
    "\n",
    "years = []\n",
    "\n",
    "outdict = {'year':list()}\n",
    "for month in months:\n",
    "    outdict[month] = list()\n",
    "\n",
    "#pprint.pprint(outdict)\n",
    "    \n",
    "for year in data:\n",
    "    #print year['startyear']\n",
    "    outdict['year'] = list(outdict['year']) + [int(year['startyear'])]\n",
    "    for month in months:\n",
    "        #print month\n",
    "        #print year['startyear'], month, year[month]\n",
    "        outdict[month] = list(outdict[month]) + [float(year[month])]\n",
    "\n",
    "#pprint.pprint(outdict)\n",
    "\n",
    "#for key in outdict:\n",
    "#    print key, len(outdict[key])\n",
    "\n",
    "df = pd.DataFrame(outdict)\n",
    "#print df.head(200)\n",
    "\n"
   ]
  },
  {
   "cell_type": "code",
   "execution_count": 45,
   "metadata": {
    "collapsed": false
   },
   "outputs": [
    {
     "name": "stdout",
     "output_type": "stream",
     "text": [
      "[0.16, 0.01783132530120482, 0.036686746987951803, 0.25674698795180728, 1.0259638554216868, 2.6049397590361445, 4.2847590361445782, 4.5235542168674705, 3.7065060240963854, 3.0643373493975909, 1.4992771084337349, 0.60795180722891573]\n"
     ]
    }
   ],
   "source": [
    "# get the average monthly rainfall in another dataframe \n",
    "\n",
    "avgs = []\n",
    "\n",
    "for month in months:\n",
    "    avg = df[month].astype(float).mean()\n",
    "    avgs.append(avg)\n",
    "\n",
    "print avgs"
   ]
  },
  {
   "cell_type": "code",
   "execution_count": 46,
   "metadata": {
    "collapsed": false
   },
   "outputs": [
    {
     "name": "stdout",
     "output_type": "stream",
     "text": [
      "[0.12, 0.08, 0.01, 0.55, 0.46, 2.29, 11.7, 0.0, 1.47, 0.12, 1.3, 0.09]\n"
     ]
    }
   ],
   "source": [
    "# get the a year's monthly rainfall \n",
    "\n",
    "\n",
    "def get_rain(months, year, df):\n",
    "    current = []\n",
    "    for month in months:\n",
    "        rain = float(df[df.year==year][month].values)\n",
    "        #print rain\n",
    "        current.append(rain)  \n",
    "    return current\n",
    "\n",
    "\n",
    "#get_rain(months, 2014, df)\n",
    "print get_rain(months, 2014, df)"
   ]
  },
  {
   "cell_type": "code",
   "execution_count": null,
   "metadata": {
    "collapsed": true
   },
   "outputs": [],
   "source": []
  }
 ],
 "metadata": {
  "kernelspec": {
   "display_name": "Python 2",
   "language": "python",
   "name": "python2"
  },
  "language_info": {
   "codemirror_mode": {
    "name": "ipython",
    "version": 2
   },
   "file_extension": ".py",
   "mimetype": "text/x-python",
   "name": "python",
   "nbconvert_exporter": "python",
   "pygments_lexer": "ipython2",
   "version": "2.7.9"
  }
 },
 "nbformat": 4,
 "nbformat_minor": 0
}
